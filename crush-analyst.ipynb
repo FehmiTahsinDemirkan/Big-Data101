{
 "cells": [
  {
   "cell_type": "code",
   "execution_count": 1,
   "id": "0571eca2-036e-47c6-a92f-e3a97087f8ad",
   "metadata": {},
   "outputs": [],
   "source": [
    "import pandas as pd\n",
    "from sklearn.cluster import KMeans\n",
    "from sklearn.preprocessing import StandardScaler\n",
    "from sklearn.impute import SimpleImputer"
   ]
  },
  {
   "cell_type": "code",
   "execution_count": 2,
   "id": "3d20f72b-3f15-42a1-895c-fc82a1c708b0",
   "metadata": {},
   "outputs": [
    {
     "name": "stdout",
     "output_type": "stream",
     "text": [
      "Veri seti başarıyla yüklendi.\n"
     ]
    }
   ],
   "source": [
    "# Veri setini yükle\n",
    "try:\n",
    "    file_path = r'C:\\Users\\fehmi\\PycharmProjects\\Big_Data101\\kayseri_kaza_verileri.xlsx'\n",
    "    accident_data = pd.read_excel(file_path)\n",
    "    print(\"Veri seti başarıyla yüklendi.\")\n",
    "except FileNotFoundError:\n",
    "    print(\"Belirtilen dosya bulunamadı.\")\n",
    "    exit()\n",
    "except Exception as e:\n",
    "    print(\"Bir hata oluştu:\", e)\n",
    "    exit()"
   ]
  },
  {
   "cell_type": "code",
   "execution_count": 3,
   "id": "fabb2263-421c-4214-87df-8a686167eb38",
   "metadata": {},
   "outputs": [],
   "source": [
    "# Kazaya karışan araç sayısı sütununu seçme\n",
    "vehicle_count = accident_data[['TASIT SAYISI']]\n",
    "\n",
    "# Eksik değerleri doldurma\n",
    "imputer = SimpleImputer(strategy='median')\n",
    "vehicle_count_imputed = imputer.fit_transform(vehicle_count)\n",
    "\n",
    "# Ölçeklendirme\n",
    "scaler = StandardScaler()\n",
    "scaled_vehicle_count = scaler.fit_transform(vehicle_count_imputed)\n",
    "\n",
    "# K-means algoritması\n",
    "num_clusters = 3  # veya 5\n",
    "kmeans = KMeans(n_clusters=num_clusters, random_state=42)\n",
    "\n",
    "# Modeli veriye uygula ve kümeleme yap\n",
    "clusters = kmeans.fit_predict(scaled_vehicle_count)\n",
    "\n",
    "# Küme merkezlerini al\n",
    "cluster_centers = kmeans.cluster_centers_\n",
    "\n",
    "# Sonuçları veri setine ekle\n",
    "accident_data['Cluster'] = clusters"
   ]
  },
  {
   "cell_type": "code",
   "execution_count": 4,
   "id": "773b58e9-d2f1-4764-ae09-d3ebb225bb96",
   "metadata": {},
   "outputs": [
    {
     "name": "stdout",
     "output_type": "stream",
     "text": [
      "3 kümeleme için elde edilen küme merkezleri:\n",
      "[[ 0.3994783 ]\n",
      " [-1.12629124]\n",
      " [ 3.78219894]]\n",
      "\n",
      "Kazaların 3 kümeleme sonuçları:\n",
      "                X               Y        X.1        Y.1   KAZA TURU  \\\n",
      "0  35508782834207  38707161168583  38.707161  35.508783  Yaralamali   \n",
      "1  35434624154945  38735652082362  38.735652  35.434624  Yaralamali   \n",
      "2  35529938002123  38733578034397  38.733578  35.529938  Yaralamali   \n",
      "3  35551174358534  38677216094917  38.677216  35.551174  Yaralamali   \n",
      "4  35458740002115  38689680085274  38.689680  35.458740  Yaralamali   \n",
      "\n",
      "   KGM ciddiyet seviyesi  Kaza Ciddiyet Seviyesi  AY MEVSİM  KAZA SAAT  ...  \\\n",
      "0                      3                       0   1    kis        0.0  ...   \n",
      "1                      3                       0   1    kis       17.0  ...   \n",
      "2                      3                       0   1    kis       20.0  ...   \n",
      "3                     30                       4   1    kis        7.0  ...   \n",
      "4                     18                       2   1    kis       16.0  ...   \n",
      "\n",
      "  SERIT SAYISI  AYDINLATMA Unnamed: 21  Yasal Hız Limit  ARAC CINSI  \\\n",
      "0            3         Var           2               50    Otomobil   \n",
      "1            3         Var           2               50    Otomobil   \n",
      "2            3         Var           2               50     Minibus   \n",
      "3            2         Yok           2               50     Minibus   \n",
      "4            2         Yok           3               70    Otomobil   \n",
      "\n",
      "   ARAC MODELI SURUCU CINSIYET SURUCU EGITIM DURUMU EHLIYET YILI  Cluster  \n",
      "0         1992           KADIN              ILKOKUL            1        0  \n",
      "1         2001           ERKEK  2 YIL SURELI YUKSEK            2        0  \n",
      "2         1987           ERKEK              ILKOKUL            4        0  \n",
      "3         2001           ERKEK           ILKOGRETIM            4        0  \n",
      "4         1998           ERKEK  2 YIL SURELI YUKSEK            3        0  \n",
      "\n",
      "[5 rows x 29 columns]\n"
     ]
    }
   ],
   "source": [
    "# Kümeleme sonuçlarını ve küme merkezlerini yazdır\n",
    "print(f\"{num_clusters} kümeleme için elde edilen küme merkezleri:\\n{cluster_centers}\")\n",
    "print(f\"\\nKazaların {num_clusters} kümeleme sonuçları:\\n{accident_data.head()}\")\n"
   ]
  },
  {
   "cell_type": "code",
   "execution_count": 1,
   "id": "85a6a503-6bbb-4631-88a6-5bb42f74f88b",
   "metadata": {},
   "outputs": [
    {
     "ename": "NameError",
     "evalue": "name 'num_clusters' is not defined",
     "output_type": "error",
     "traceback": [
      "\u001b[1;31m---------------------------------------------------------------------------\u001b[0m",
      "\u001b[1;31mNameError\u001b[0m                                 Traceback (most recent call last)",
      "Cell \u001b[1;32mIn[1], line 5\u001b[0m\n\u001b[0;32m      3\u001b[0m \u001b[38;5;66;03m# Her bir küme için kazaya karışan araç sayısının dağılımını gösteren histogramlar\u001b[39;00m\n\u001b[0;32m      4\u001b[0m plt\u001b[38;5;241m.\u001b[39mfigure(figsize\u001b[38;5;241m=\u001b[39m(\u001b[38;5;241m10\u001b[39m, \u001b[38;5;241m6\u001b[39m))\n\u001b[1;32m----> 5\u001b[0m \u001b[38;5;28;01mfor\u001b[39;00m i \u001b[38;5;129;01min\u001b[39;00m \u001b[38;5;28mrange\u001b[39m(\u001b[43mnum_clusters\u001b[49m):\n\u001b[0;32m      6\u001b[0m     plt\u001b[38;5;241m.\u001b[39mhist(accident_data[accident_data[\u001b[38;5;124m'\u001b[39m\u001b[38;5;124mCluster\u001b[39m\u001b[38;5;124m'\u001b[39m] \u001b[38;5;241m==\u001b[39m i][\u001b[38;5;124m'\u001b[39m\u001b[38;5;124mTASIT SAYISI\u001b[39m\u001b[38;5;124m'\u001b[39m], bins\u001b[38;5;241m=\u001b[39m\u001b[38;5;241m20\u001b[39m, alpha\u001b[38;5;241m=\u001b[39m\u001b[38;5;241m0.5\u001b[39m, label\u001b[38;5;241m=\u001b[39m\u001b[38;5;124mf\u001b[39m\u001b[38;5;124m'\u001b[39m\u001b[38;5;124mCluster \u001b[39m\u001b[38;5;132;01m{\u001b[39;00mi\u001b[38;5;132;01m}\u001b[39;00m\u001b[38;5;124m'\u001b[39m)\n\u001b[0;32m      7\u001b[0m plt\u001b[38;5;241m.\u001b[39mxlabel(\u001b[38;5;124m'\u001b[39m\u001b[38;5;124mKazaya Karışan Araç Sayısı\u001b[39m\u001b[38;5;124m'\u001b[39m)\n",
      "\u001b[1;31mNameError\u001b[0m: name 'num_clusters' is not defined"
     ]
    },
    {
     "data": {
      "text/plain": [
       "<Figure size 1000x600 with 0 Axes>"
      ]
     },
     "metadata": {},
     "output_type": "display_data"
    }
   ],
   "source": [
    "import matplotlib.pyplot as plt\n",
    "\n",
    "# Her bir küme için kazaya karışan araç sayısının dağılımını gösteren histogramlar\n",
    "plt.figure(figsize=(10, 6))\n",
    "for i in range(num_clusters):\n",
    "    plt.hist(accident_data[accident_data['Cluster'] == i]['TASIT SAYISI'], bins=20, alpha=0.5, label=f'Cluster {i}')\n",
    "plt.xlabel('Kazaya Karışan Araç Sayısı')\n",
    "plt.ylabel('Kaza Sayısı')\n",
    "plt.title(f'Kümeleme Sonuçları ({num_clusters} Küme)')\n",
    "plt.legend()\n",
    "plt.grid(True)\n",
    "plt.show()\n"
   ]
  },
  {
   "cell_type": "code",
   "execution_count": 2,
   "id": "c6e218dd-d43f-4c15-a6d7-d5577aa4dd19",
   "metadata": {},
   "outputs": [
    {
     "name": "stdout",
     "output_type": "stream",
     "text": [
      "Veri seti başarıyla yüklendi.\n"
     ]
    },
    {
     "data": {
      "image/png": "[encoded data removed]",
      "text/plain": [
       "<Figure size 1000x600 with 1 Axes>"
      ]
     },
     "metadata": {},
     "output_type": "display_data"
    }
   ],
   "source": [
    "import pandas as pd\n",
    "import numpy as np\n",
    "import matplotlib.pyplot as plt\n",
    "from sklearn.impute import SimpleImputer\n",
    "from sklearn.preprocessing import StandardScaler\n",
    "from sklearn.cluster import KMeans\n",
    "\n",
    "# Veri setini yükle\n",
    "try:\n",
    "    file_path = r'C:\\Users\\fehmi\\PycharmProjects\\Big_Data101\\kayseri_kaza_verileri.xlsx'\n",
    "    accident_data = pd.read_excel(file_path)\n",
    "    print(\"Veri seti başarıyla yüklendi.\")\n",
    "except FileNotFoundError:\n",
    "    print(\"Belirtilen dosya bulunamadı.\")\n",
    "    exit()\n",
    "except Exception as e:\n",
    "    print(\"Bir hata oluştu:\", e)\n",
    "    exit()\n",
    "\n",
    "# Kazaya karışan araç sayısı sütununu seçme\n",
    "vehicle_count = accident_data[['TASIT SAYISI']]\n",
    "\n",
    "# Eksik değerleri doldurma\n",
    "imputer = SimpleImputer(strategy='median')\n",
    "vehicle_count_imputed = imputer.fit_transform(vehicle_count)\n",
    "\n",
    "# Ölçeklendirme\n",
    "scaler = StandardScaler()\n",
    "scaled_vehicle_count = scaler.fit_transform(vehicle_count_imputed)\n",
    "\n",
    "# K-means algoritması\n",
    "num_clusters = 3  # veya 5\n",
    "kmeans = KMeans(n_clusters=num_clusters, random_state=42)\n",
    "\n",
    "# Modeli veriye uygula ve kümeleme yap\n",
    "clusters = kmeans.fit_predict(scaled_vehicle_count)\n",
    "\n",
    "# Küme merkezlerini al\n",
    "cluster_centers = kmeans.cluster_centers_\n",
    "\n",
    "# Sonuçları veri setine ekle\n",
    "accident_data['Cluster'] = clusters\n",
    "\n",
    "# Her bir küme için kazaya karışan araç sayısının dağılımını gösteren histogramlar\n",
    "plt.figure(figsize=(10, 6))\n",
    "for i in range(num_clusters):\n",
    "    plt.hist(accident_data[accident_data['Cluster'] == i]['TASIT SAYISI'], bins=20, alpha=0.5, label=f'Cluster {i}')\n",
    "plt.xlabel('Kazaya Karışan Araç Sayısı')\n",
    "plt.ylabel('Kaza Sayısı')\n",
    "plt.title(f'Kümeleme Sonuçları ({num_clusters} Küme)')\n",
    "plt.legend()\n",
    "plt.grid(True)\n",
    "plt.show()\n"
   ]
  },
  {
   "cell_type": "code",
   "execution_count": null,
   "id": "75ad7db7-4cd7-4fd7-abd5-8eaa09c3a7be",
   "metadata": {},
   "outputs": [],
   "source": []
  }
 ],
 "metadata": {
  "kernelspec": {
   "display_name": "Python 3 (ipykernel)",
   "language": "python",
   "name": "python3"
  },
  "language_info": {
   "codemirror_mode": {
    "name": "ipython",
    "version": 3
   },
   "file_extension": ".py",
   "mimetype": "text/x-python",
   "name": "python",
   "nbconvert_exporter": "python",
   "pygments_lexer": "ipython3",
   "version": "3.12.2"
  }
 },
 "nbformat": 4,
 "nbformat_minor": 5
}
