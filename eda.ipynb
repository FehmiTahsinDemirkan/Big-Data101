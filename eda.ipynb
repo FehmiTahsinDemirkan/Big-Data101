{
 "cells": [
  {
   "cell_type": "code",
   "execution_count": 1,
   "id": "f76fac52-c47e-4c33-9345-e1a2ca1b6c4b",
   "metadata": {},
   "outputs": [],
   "source": [
    "import pandas as pd\n",
    "import matplotlib.pyplot as plt\n",
    "import seaborn as sns"
   ]
  },
  {
   "cell_type": "code",
   "execution_count": 2,
   "id": "8195e3c9-6381-4922-b289-2fb3ca33ef74",
   "metadata": {},
   "outputs": [],
   "source": [
    "data = pd.read_excel('kayseri_kaza_verileri.xlsx')"
   ]
  },
  {
   "cell_type": "code",
   "execution_count": 4,
   "id": "be1bc303-f158-40e3-a679-686074dd32e9",
   "metadata": {},
   "outputs": [],
   "source": [
    "# info() her sütundaki kayıt sayısı, boş veya boş olmayan veriler, Veri türü,\n",
    "# veri kümesinin bellek kullanımı dahil olmak üzere veri türünü ve verilerle ilgili bilgileri anlamaya yardımcı olur\n",
    "# print(data.info())"
   ]
  },
  {
   "cell_type": "code",
   "execution_count": 5,
   "id": "c69af568-6af4-42dc-928e-ee1eee3938f6",
   "metadata": {},
   "outputs": [],
   "source": [
    "# nunique() her sütundaki birkaç benzersiz değere ve veri açıklamasına dayanarak , verilerdeki sürekli ve kategorik sütunları tanımlayabiliriz.\n",
    "# Tekrarlanan veriler daha fazla analize dayalı olarak işlenebilir veya kaldırılabilir\n",
    "# print(data.nunique())"
   ]
  },
  {
   "cell_type": "code",
   "execution_count": 6,
   "id": "3118d29d-ffe4-446e-8690-076a662a0b85",
   "metadata": {},
   "outputs": [],
   "source": [
    "# isnull(), verilerdeki boş değerleri tanımlamak için tüm ön işleme adımlarında yaygın olarak kullanılmaktadır\n",
    "# data.isnull().sum() her sütundaki eksik kayıtların sayısını bulmak için kullanılır\n",
    "# print(data.isnull().sum())"
   ]
  },
  {
   "cell_type": "code",
   "execution_count": 7,
   "id": "72a0a123-7771-45ee-9ad7-5cca5153eb1f",
   "metadata": {},
   "outputs": [],
   "source": [
    "# Aşağıdaki kod, her sütundaki eksik değerlerin yüzdesini hesaplamaya yardımcı olur\n",
    "# print((data.isnull().sum()/(len(data)))*100)"
   ]
  },
  {
   "cell_type": "code",
   "execution_count": 8,
   "id": "bc8e8f5b-9330-4de4-9b1d-a481283eec02",
   "metadata": {},
   "outputs": [],
   "source": [
    "# Remove OLU SAYISI column from data\n",
    "# data = data.drop(['OLU SAYISI'], axis = 1)\n",
    "# print(data.info())"
   ]
  },
  {
   "cell_type": "code",
   "execution_count": 9,
   "id": "3f57d597-c0f2-4e4d-b49b-bacd84674bfd",
   "metadata": {},
   "outputs": [],
   "source": [
    "# Some names of the variables are not relevant and not easy to understand. Some data may have data entry errors,\n",
    "# and some variables may need data type conversion. We need to fix this issue in the data.\n",
    "# print(data.AY.unique())\n",
    "# print(data.AY.nunique())"
   ]
  },
  {
   "cell_type": "code",
   "execution_count": 10,
   "id": "c15fb1ba-d8db-48e0-9416-545e5f150794",
   "metadata": {},
   "outputs": [
    {
     "name": "stdout",
     "output_type": "stream",
     "text": [
      "                          count          mean           std           min  \\\n",
      "X                       15189.0  3.549329e+13  5.723458e+10  3.520860e+13   \n",
      "Y                       15189.0  3.872819e+13  2.873429e+10  3.857290e+13   \n",
      "X.1                     15189.0  3.872819e+01  2.873429e-02  3.857290e+01   \n",
      "Y.1                     15189.0  3.549329e+01  5.723458e-02  3.520860e+01   \n",
      "KGM ciddiyet seviyesi   15189.0  5.057871e+00  4.575804e+00  0.000000e+00   \n",
      "Kaza Ciddiyet Seviyesi  15189.0  2.247021e-01  6.480300e-01  0.000000e+00   \n",
      "AY                      15189.0  6.787478e+00  3.248792e+00  1.000000e+00   \n",
      "KAZA SAAT               15162.0  1.424601e+01  5.588288e+00  0.000000e+00   \n",
      "MAHALLE yoğunluğu       15189.0  2.391402e+00  1.036854e+00  1.000000e+00   \n",
      "OLU SAYISI                 80.0  1.175000e+00  1.064680e+00  0.000000e+00   \n",
      "YARALI SAYISI           15152.0  1.671463e+00  1.449626e+00  1.000000e+00   \n",
      "TASIT SAYISI            15177.0  1.819134e+00  7.277052e-01  1.000000e+00   \n",
      "SERIT SAYISI            15189.0  2.667325e+00  1.227698e+00  0.000000e+00   \n",
      "Unnamed: 21             15189.0  2.042728e+00  3.981182e-01  1.000000e+00   \n",
      "ARAC MODELI             15189.0  2.003433e+03  8.750067e+00  1.962000e+03   \n",
      "EHLIYET YILI            15189.0  1.167002e+01  1.008556e+01 -6.000000e+00   \n",
      "\n",
      "                                 25%           50%           75%           max  \n",
      "X                       3.546004e+13  3.549359e+13  3.553521e+13  3.564494e+13  \n",
      "Y                       3.871174e+13  3.872949e+13  3.874390e+13  3.882981e+13  \n",
      "X.1                     3.871174e+01  3.872949e+01  3.874390e+01  3.882981e+01  \n",
      "Y.1                     3.546004e+01  3.549359e+01  3.553521e+01  3.564494e+01  \n",
      "KGM ciddiyet seviyesi   3.000000e+00  3.000000e+00  6.000000e+00  1.800000e+02  \n",
      "Kaza Ciddiyet Seviyesi  0.000000e+00  0.000000e+00  0.000000e+00  5.000000e+00  \n",
      "AY                      4.000000e+00  7.000000e+00  9.000000e+00  1.200000e+01  \n",
      "KAZA SAAT               1.100000e+01  1.500000e+01  1.800000e+01  4.500000e+01  \n",
      "MAHALLE yoğunluğu       2.000000e+00  2.000000e+00  3.000000e+00  4.000000e+00  \n",
      "OLU SAYISI              1.000000e+00  1.000000e+00  1.000000e+00  8.000000e+00  \n",
      "YARALI SAYISI           1.000000e+00  1.000000e+00  2.000000e+00  3.600000e+01  \n",
      "TASIT SAYISI            1.000000e+00  2.000000e+00  2.000000e+00  2.200000e+01  \n",
      "SERIT SAYISI            2.000000e+00  2.000000e+00  3.000000e+00  1.300000e+01  \n",
      "Unnamed: 21             2.000000e+00  2.000000e+00  2.000000e+00  4.000000e+00  \n",
      "ARAC MODELI             1.997000e+03  2.005000e+03  2.011000e+03  2.021000e+03  \n",
      "EHLIYET YILI            4.000000e+00  9.000000e+00  1.800000e+01  6.100000e+01  \n"
     ]
    }
   ],
   "source": [
    "#describe()– Provide a statistics summary of data belonging to numerical datatype such as int, float\n",
    "# print(data.describe().T)"
   ]
  },
  {
   "cell_type": "code",
   "execution_count": null,
   "id": "b1d43a08-b875-4a12-8c13-6f44e475ebcc",
   "metadata": {},
   "outputs": [],
   "source": []
  }
 ],
 "metadata": {
  "kernelspec": {
   "display_name": "Python 3 (ipykernel)",
   "language": "python",
   "name": "python3"
  },
  "language_info": {
   "codemirror_mode": {
    "name": "ipython",
    "version": 3
   },
   "file_extension": ".py",
   "mimetype": "text/x-python",
   "name": "python",
   "nbconvert_exporter": "python",
   "pygments_lexer": "ipython3",
   "version": "3.12.2"
  }
 },
 "nbformat": 4,
 "nbformat_minor": 5
}
