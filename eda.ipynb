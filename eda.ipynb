{
 "cells": [
  {
   "cell_type": "code",
   "execution_count": 11,
   "id": "f76fac52-c47e-4c33-9345-e1a2ca1b6c4b",
   "metadata": {},
   "outputs": [],
   "source": [
    "import pandas as pd\n",
    "import matplotlib.pyplot as plt\n",
    "import seaborn as sns"
   ]
  },
  {
   "cell_type": "code",
   "execution_count": 12,
   "id": "8195e3c9-6381-4922-b289-2fb3ca33ef74",
   "metadata": {},
   "outputs": [],
   "source": [
    "data = pd.read_excel('kayseri_kaza_verileri.xlsx')"
   ]
  },
  {
   "cell_type": "code",
   "execution_count": 13,
   "id": "be1bc303-f158-40e3-a679-686074dd32e9",
   "metadata": {},
   "outputs": [],
   "source": [
    "# info() her sütundaki kayıt sayısı, boş veya boş olmayan veriler, Veri türü,\n",
    "# veri kümesinin bellek kullanımı dahil olmak üzere veri türünü ve verilerle ilgili bilgileri anlamaya yardımcı olur\n",
    "#print(data.info())"
   ]
  },
  {
   "cell_type": "code",
   "execution_count": 14,
   "id": "c69af568-6af4-42dc-928e-ee1eee3938f6",
   "metadata": {},
   "outputs": [],
   "source": [
    "# nunique() her sütundaki birkaç benzersiz değere ve veri açıklamasına dayanarak , verilerdeki sürekli ve kategorik sütunları tanımlayabiliriz.\n",
    "# Tekrarlanan veriler daha fazla analize dayalı olarak işlenebilir veya kaldırılabilir\n",
    "#print(data.nunique())"
   ]
  },
  {
   "cell_type": "code",
   "execution_count": 15,
   "id": "3118d29d-ffe4-446e-8690-076a662a0b85",
   "metadata": {},
   "outputs": [],
   "source": [
    "# isnull(), verilerdeki boş değerleri tanımlamak için tüm ön işleme adımlarında yaygın olarak kullanılmaktadır\n",
    "# data.isnull().sum() her sütundaki eksik kayıtların sayısını bulmak için kullanılır\n",
    "#print(data.isnull().sum())"
   ]
  },
  {
   "cell_type": "code",
   "execution_count": 16,
   "id": "72a0a123-7771-45ee-9ad7-5cca5153eb1f",
   "metadata": {},
   "outputs": [
    {
     "name": "stdout",
     "output_type": "stream",
     "text": [
      "X                          0.000000\n",
      "Y                          0.000000\n",
      "X.1                        0.000000\n",
      "Y.1                        0.000000\n",
      "KAZA TURU                  0.000000\n",
      "KGM ciddiyet seviyesi      0.000000\n",
      "Kaza Ciddiyet Seviyesi     0.000000\n",
      "AY                         0.000000\n",
      "MEVSİM                     0.000000\n",
      "KAZA SAAT                  0.177760\n",
      "MAHALLE                    0.381855\n",
      "MAHALLE yoğunluğu          0.000000\n",
      "YOL                        8.269142\n",
      "OLU SAYISI                99.473303\n",
      "YARALI SAYISI              0.243597\n",
      "TASIT SAYISI               0.079005\n",
      "SURUCU KUSURU              0.000000\n",
      "OLUS NEDENI                0.052670\n",
      "KAPLAMA CINSI              0.000000\n",
      "SERIT SAYISI               0.000000\n",
      "AYDINLATMA                 0.000000\n",
      "Unnamed: 21                0.000000\n",
      "Yasal Hız Limit            0.000000\n",
      "ARAC CINSI                 0.000000\n",
      "ARAC MODELI                0.000000\n",
      "SURUCU CINSIYET            0.000000\n",
      "SURUCU EGITIM DURUMU       0.000000\n",
      "EHLIYET YILI               0.000000\n",
      "dtype: float64\n"
     ]
    }
   ],
   "source": [
    "# Aşağıdaki kod, her sütundaki eksik değerlerin yüzdesini hesaplamaya yardımcı olur\n",
    "print((data.isnull().sum()/(len(data)))*100)"
   ]
  },
  {
   "cell_type": "code",
   "execution_count": 17,
   "id": "bc8e8f5b-9330-4de4-9b1d-a481283eec02",
   "metadata": {},
   "outputs": [],
   "source": [
    "# Remove OLU SAYISI column from data\n",
    "#data = data.drop(['OLU SAYISI'], axis = 1)\n",
    "#print(data.info())"
   ]
  },
  {
   "cell_type": "code",
   "execution_count": 18,
   "id": "3f57d597-c0f2-4e4d-b49b-bacd84674bfd",
   "metadata": {},
   "outputs": [],
   "source": [
    "# Some names of the variables are not relevant and not easy to understand. Some data may have data entry errors,\n",
    "# and some variables may need data type conversion. We need to fix this issue in the data.\n",
    "#print(data.AY.unique())\n",
    "#print(data.AY.nunique())"
   ]
  },
  {
   "cell_type": "code",
   "execution_count": 9,
   "id": "c15fb1ba-d8db-48e0-9416-545e5f150794",
   "metadata": {},
   "outputs": [],
   "source": [
    "#describe()– Provide a statistics summary of data belonging to numerical datatype such as int, float\n",
    "#print(data.describe().T)"
   ]
  },
  {
   "cell_type": "code",
   "execution_count": 21,
   "id": "b1d43a08-b875-4a12-8c13-6f44e475ebcc",
   "metadata": {},
   "outputs": [],
   "source": [
    "from datetime import date\n",
    "#date.today().year\n",
    "#data['ARAC YILI']=date.today().year-data['ARAC MODELI']\n",
    "#data.head()"
   ]
  },
  {
   "cell_type": "code",
   "execution_count": 22,
   "id": "15a44934-917a-4dec-9c6f-4c2906510b75",
   "metadata": {},
   "outputs": [
    {
     "ename": "AttributeError",
     "evalue": "'DataFrame' object has no attribute 'Brand'",
     "output_type": "error",
     "traceback": [
      "\u001b[1;31m---------------------------------------------------------------------------\u001b[0m",
      "\u001b[1;31mAttributeError\u001b[0m                            Traceback (most recent call last)",
      "\u001b[1;32m~\\AppData\\Local\\Temp\\ipykernel_22436\\1178074443.py\u001b[0m in \u001b[0;36m?\u001b[1;34m()\u001b[0m\n\u001b[0;32m      1\u001b[0m \u001b[0msearchfor\u001b[0m \u001b[1;33m=\u001b[0m \u001b[1;33m[\u001b[0m\u001b[1;34m'REIS CD.'\u001b[0m \u001b[1;33m,\u001b[0m\u001b[1;34m'47/1-c'\u001b[0m\u001b[1;33m,\u001b[0m\u001b[1;34m'Motosiklet'\u001b[0m\u001b[1;33m]\u001b[0m\u001b[1;33m\u001b[0m\u001b[1;33m\u001b[0m\u001b[0m\n\u001b[1;32m----> 2\u001b[1;33m \u001b[0mdata\u001b[0m\u001b[1;33m[\u001b[0m\u001b[0mdata\u001b[0m\u001b[1;33m.\u001b[0m\u001b[0mBrand\u001b[0m\u001b[1;33m.\u001b[0m\u001b[0mstr\u001b[0m\u001b[1;33m.\u001b[0m\u001b[0mcontains\u001b[0m\u001b[1;33m(\u001b[0m\u001b[1;34m'|'\u001b[0m\u001b[1;33m.\u001b[0m\u001b[0mjoin\u001b[0m\u001b[1;33m(\u001b[0m\u001b[0msearchfor\u001b[0m\u001b[1;33m)\u001b[0m\u001b[1;33m)\u001b[0m\u001b[1;33m]\u001b[0m\u001b[1;33m.\u001b[0m\u001b[0mhead\u001b[0m\u001b[1;33m(\u001b[0m\u001b[1;36m5\u001b[0m\u001b[1;33m)\u001b[0m\u001b[1;33m\u001b[0m\u001b[1;33m\u001b[0m\u001b[0m\n\u001b[0m",
      "\u001b[1;32m~\\AppData\\Local\\Programs\\Python\\Python312\\Lib\\site-packages\\pandas\\core\\generic.py\u001b[0m in \u001b[0;36m?\u001b[1;34m(self, name)\u001b[0m\n\u001b[0;32m   6292\u001b[0m             \u001b[1;32mand\u001b[0m \u001b[0mname\u001b[0m \u001b[1;32mnot\u001b[0m \u001b[1;32min\u001b[0m \u001b[0mself\u001b[0m\u001b[1;33m.\u001b[0m\u001b[0m_accessors\u001b[0m\u001b[1;33m\u001b[0m\u001b[1;33m\u001b[0m\u001b[0m\n\u001b[0;32m   6293\u001b[0m             \u001b[1;32mand\u001b[0m \u001b[0mself\u001b[0m\u001b[1;33m.\u001b[0m\u001b[0m_info_axis\u001b[0m\u001b[1;33m.\u001b[0m\u001b[0m_can_hold_identifiers_and_holds_name\u001b[0m\u001b[1;33m(\u001b[0m\u001b[0mname\u001b[0m\u001b[1;33m)\u001b[0m\u001b[1;33m\u001b[0m\u001b[1;33m\u001b[0m\u001b[0m\n\u001b[0;32m   6294\u001b[0m         \u001b[1;33m)\u001b[0m\u001b[1;33m:\u001b[0m\u001b[1;33m\u001b[0m\u001b[1;33m\u001b[0m\u001b[0m\n\u001b[0;32m   6295\u001b[0m             \u001b[1;32mreturn\u001b[0m \u001b[0mself\u001b[0m\u001b[1;33m[\u001b[0m\u001b[0mname\u001b[0m\u001b[1;33m]\u001b[0m\u001b[1;33m\u001b[0m\u001b[1;33m\u001b[0m\u001b[0m\n\u001b[1;32m-> 6296\u001b[1;33m         \u001b[1;32mreturn\u001b[0m \u001b[0mobject\u001b[0m\u001b[1;33m.\u001b[0m\u001b[0m__getattribute__\u001b[0m\u001b[1;33m(\u001b[0m\u001b[0mself\u001b[0m\u001b[1;33m,\u001b[0m \u001b[0mname\u001b[0m\u001b[1;33m)\u001b[0m\u001b[1;33m\u001b[0m\u001b[1;33m\u001b[0m\u001b[0m\n\u001b[0m",
      "\u001b[1;31mAttributeError\u001b[0m: 'DataFrame' object has no attribute 'Brand'"
     ]
    }
   ],
   "source": [
    "searchfor = ['REIS CD.' ,'47/1-c','Motosiklet']\n",
    "data[data.Brand.str.contains('|'.join(searchfor))].head(5)"
   ]
  },
  {
   "cell_type": "code",
   "execution_count": null,
   "id": "c5760d2b-1468-43f6-ba14-61fd75f041fa",
   "metadata": {},
   "outputs": [],
   "source": []
  }
 ],
 "metadata": {
  "kernelspec": {
   "display_name": "Python 3 (ipykernel)",
   "language": "python",
   "name": "python3"
  },
  "language_info": {
   "codemirror_mode": {
    "name": "ipython",
    "version": 3
   },
   "file_extension": ".py",
   "mimetype": "text/x-python",
   "name": "python",
   "nbconvert_exporter": "python",
   "pygments_lexer": "ipython3",
   "version": "3.12.2"
  }
 },
 "nbformat": 4,
 "nbformat_minor": 5
}
