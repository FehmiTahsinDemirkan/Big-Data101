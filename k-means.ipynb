{
 "cells": [
  {
   "cell_type": "code",
   "execution_count": 1,
   "id": "fe1bdabe-4b92-4fd3-80c7-8edb00b3636e",
   "metadata": {},
   "outputs": [],
   "source": [
    "import pandas as pd\n",
    "from sklearn.cluster import KMeans\n",
    "from sklearn.preprocessing import StandardScaler\n",
    "from sklearn.impute import SimpleImputer"
   ]
  },
  {
   "cell_type": "code",
   "execution_count": 2,
   "id": "2066b693-ba63-47e7-b458-9797099c49da",
   "metadata": {},
   "outputs": [
    {
     "name": "stdout",
     "output_type": "stream",
     "text": [
      "Veri seti başarıyla yüklendi.\n"
     ]
    }
   ],
   "source": [
    "# Veri setini yükle\n",
    "try:\n",
    "    # Dosya yolunu güncelle\n",
    "    file_path = r'C:\\Users\\fehmi\\PycharmProjects\\Big_Data101\\kayseri_kaza_verileri.xlsx'\n",
    "    accident_data = pd.read_excel(file_path)\n",
    "    print(\"Veri seti başarıyla yüklendi.\")\n",
    "except FileNotFoundError:\n",
    "    print(\"Belirtilen dosya bulunamadı.\")\n",
    "    exit()\n",
    "except Exception as e:\n",
    "    print(\"Bir hata oluştu:\", e)\n",
    "    exit()"
   ]
  },
  {
   "cell_type": "code",
   "execution_count": 6,
   "id": "7b7766d9-8ccc-48b7-b56a-db8097ae7fd1",
   "metadata": {},
   "outputs": [],
   "source": [
    "\n",
    "# Ön işleme için eksik verileri median ile doldurma\n",
    "imputer = SimpleImputer(strategy='median')\n",
    "\n",
    "# İlgili sütunları seçme ve eksik verileri doldurma\n",
    "selected_columns = accident_data[['Kaza Ciddiyet Seviyesi', 'AY', 'MAHALLE yoğunluğu']]\n",
    "selected_columns_imputed = imputer.fit_transform(selected_columns)\n",
    "\n",
    "# Ölçeklendirme\n",
    "scaler = StandardScaler()\n",
    "scaled_features = scaler.fit_transform(selected_columns_imputed)\n",
    "\n",
    "# K-means algoritması 3 küme ile uygulanıyor\n",
    "kmeans = KMeans(n_clusters=3, random_state=42)\n",
    "clusters = kmeans.fit_predict(scaled_features)\n",
    "\n",
    "# Küme merkezlerini ve küme etiketlerini veri setine ekliyoruz\n",
    "accident_data['Cluster'] = clusters\n",
    "cluster_centers = kmeans.cluster_centers_"
   ]
  },
  {
   "cell_type": "code",
   "execution_count": 8,
   "id": "c0e9c21d-1f93-46a6-a3fc-c44ad5fd9326",
   "metadata": {},
   "outputs": [
    {
     "name": "stdout",
     "output_type": "stream",
     "text": [
      "Veri setinin ilk beş sırası:\n",
      "                 X               Y        X.1        Y.1   KAZA TURU  \\\n",
      "0  35508782834207  38707161168583  38.707161  35.508783  Yaralamali   \n",
      "1  35434624154945  38735652082362  38.735652  35.434624  Yaralamali   \n",
      "2  35529938002123  38733578034397  38.733578  35.529938  Yaralamali   \n",
      "3  35551174358534  38677216094917  38.677216  35.551174  Yaralamali   \n",
      "4  35458740002115  38689680085274  38.689680  35.458740  Yaralamali   \n",
      "\n",
      "   KGM ciddiyet seviyesi  Kaza Ciddiyet Seviyesi  AY MEVSİM  KAZA SAAT  ...  \\\n",
      "0                      3                       0   1    kis        0.0  ...   \n",
      "1                      3                       0   1    kis       17.0  ...   \n",
      "2                      3                       0   1    kis       20.0  ...   \n",
      "3                     30                       4   1    kis        7.0  ...   \n",
      "4                     18                       2   1    kis       16.0  ...   \n",
      "\n",
      "  SERIT SAYISI  AYDINLATMA Unnamed: 21  Yasal Hız Limit  ARAC CINSI  \\\n",
      "0            3         Var           2               50    Otomobil   \n",
      "1            3         Var           2               50    Otomobil   \n",
      "2            3         Var           2               50     Minibus   \n",
      "3            2         Yok           2               50     Minibus   \n",
      "4            2         Yok           3               70    Otomobil   \n",
      "\n",
      "   ARAC MODELI SURUCU CINSIYET SURUCU EGITIM DURUMU EHLIYET YILI  Cluster  \n",
      "0         1992           KADIN              ILKOKUL            1        1  \n",
      "1         2001           ERKEK  2 YIL SURELI YUKSEK            2        1  \n",
      "2         1987           ERKEK              ILKOKUL            4        0  \n",
      "3         2001           ERKEK           ILKOGRETIM            4        2  \n",
      "4         1998           ERKEK  2 YIL SURELI YUKSEK            3        2  \n",
      "\n",
      "[5 rows x 29 columns]\n",
      "\n",
      "Küme merkezleri:\n",
      " [[-0.14054407 -0.32805066 -0.68050463]\n",
      " [-0.19693141  0.39365124  0.8237653 ]\n",
      " [ 3.94155197 -0.04619698 -0.17362659]]\n"
     ]
    }
   ],
   "source": [
    "# İlk beş sıradaki verileri ve küme merkezlerini gösterelim\n",
    "print(\"Veri setinin ilk beş sırası:\\n\", accident_data.head())\n",
    "print(\"\\nKüme merkezleri:\\n\", cluster_centers)"
   ]
  },
  {
   "cell_type": "code",
   "execution_count": null,
   "id": "e1b05d4d-88a0-4528-b4a4-7f5e7164ceda",
   "metadata": {},
   "outputs": [],
   "source": []
  }
 ],
 "metadata": {
  "kernelspec": {
   "display_name": "Python 3 (ipykernel)",
   "language": "python",
   "name": "python3"
  },
  "language_info": {
   "codemirror_mode": {
    "name": "ipython",
    "version": 3
   },
   "file_extension": ".py",
   "mimetype": "text/x-python",
   "name": "python",
   "nbconvert_exporter": "python",
   "pygments_lexer": "ipython3",
   "version": "3.12.2"
  }
 },
 "nbformat": 4,
 "nbformat_minor": 5
}
